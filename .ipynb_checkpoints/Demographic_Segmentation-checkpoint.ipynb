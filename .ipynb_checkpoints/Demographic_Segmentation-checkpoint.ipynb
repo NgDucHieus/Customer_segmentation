{
 "cells": [
  {
   "cell_type": "code",
   "execution_count": 1,
   "id": "1e03f418-e0a2-42d2-a8b1-3f3dae74fa29",
   "metadata": {},
   "outputs": [
    {
     "ename": "TypeError",
     "evalue": "__init__() got an unexpected keyword argument 'sparse'",
     "output_type": "error",
     "traceback": [
      "\u001b[1;31m---------------------------------------------------------------------------\u001b[0m",
      "\u001b[1;31mTypeError\u001b[0m                                 Traceback (most recent call last)",
      "Cell \u001b[1;32mIn[1], line 26\u001b[0m\n\u001b[0;32m     23\u001b[0m demographic_data \u001b[38;5;241m=\u001b[39m demographic_data\u001b[38;5;241m.\u001b[39mdropna()\n\u001b[0;32m     25\u001b[0m \u001b[38;5;66;03m# Step 3: Encode categorical variables\u001b[39;00m\n\u001b[1;32m---> 26\u001b[0m encoder \u001b[38;5;241m=\u001b[39m \u001b[43mOneHotEncoder\u001b[49m\u001b[43m(\u001b[49m\u001b[43mdrop\u001b[49m\u001b[38;5;241;43m=\u001b[39;49m\u001b[38;5;124;43m'\u001b[39;49m\u001b[38;5;124;43mfirst\u001b[39;49m\u001b[38;5;124;43m'\u001b[39;49m\u001b[43m,\u001b[49m\u001b[43m \u001b[49m\u001b[43msparse\u001b[49m\u001b[38;5;241;43m=\u001b[39;49m\u001b[38;5;28;43;01mFalse\u001b[39;49;00m\u001b[43m)\u001b[49m\n\u001b[0;32m     27\u001b[0m encoded_categorical \u001b[38;5;241m=\u001b[39m encoder\u001b[38;5;241m.\u001b[39mfit_transform(demographic_data[[\u001b[38;5;124m'\u001b[39m\u001b[38;5;124mEducation\u001b[39m\u001b[38;5;124m'\u001b[39m, \u001b[38;5;124m'\u001b[39m\u001b[38;5;124mMarital_Status\u001b[39m\u001b[38;5;124m'\u001b[39m]])\n\u001b[0;32m     28\u001b[0m encoded_columns \u001b[38;5;241m=\u001b[39m encoder\u001b[38;5;241m.\u001b[39mget_feature_names_out([\u001b[38;5;124m'\u001b[39m\u001b[38;5;124mEducation\u001b[39m\u001b[38;5;124m'\u001b[39m, \u001b[38;5;124m'\u001b[39m\u001b[38;5;124mMarital_Status\u001b[39m\u001b[38;5;124m'\u001b[39m])\n",
      "\u001b[1;31mTypeError\u001b[0m: __init__() got an unexpected keyword argument 'sparse'"
     ]
    }
   ],
   "source": [
    "import pandas as pd\n",
    "from sklearn.preprocessing import StandardScaler, OneHotEncoder\n",
    "from sklearn.cluster import KMeans\n",
    "import matplotlib.pyplot as plt\n",
    "\n",
    "# Load the data\n",
    "file_path = 'marketing_campaign.csv'\n",
    "data = pd.read_csv(file_path, delimiter='\\t')\n",
    "\n",
    "# Step 1: Feature engineering\n",
    "# Calculate Age from Year_Birth\n",
    "current_year = 2024  # Update to the current year\n",
    "data['Age'] = current_year - data['Year_Birth']\n",
    "\n",
    "# Create Family Size feature\n",
    "data['Family_Size'] = data['Kidhome'] + data['Teenhome']\n",
    "\n",
    "# Step 2: Select demographic features\n",
    "demographic_features = ['Age', 'Income', 'Education', 'Marital_Status', 'Family_Size']\n",
    "demographic_data = data[demographic_features]\n",
    "\n",
    "# Handle missing values (e.g., in Income)\n",
    "demographic_data = demographic_data.dropna()\n",
    "\n",
    "# Step 3: Encode categorical variables\n",
    "encoder = OneHotEncoder(drop='first', sparse=False)\n",
    "encoded_categorical = encoder.fit_transform(demographic_data[['Education', 'Marital_Status']])\n",
    "encoded_columns = encoder.get_feature_names_out(['Education', 'Marital_Status'])\n",
    "\n",
    "# Combine encoded variables with numerical features\n",
    "numerical_features = ['Age', 'Income', 'Family_Size']\n",
    "processed_data = pd.concat(\n",
    "    [demographic_data[numerical_features].reset_index(drop=True),\n",
    "     pd.DataFrame(encoded_categorical, columns=encoded_columns)],\n",
    "    axis=1\n",
    ")\n",
    "\n",
    "# Step 4: Standardize the data\n",
    "scaler = StandardScaler()\n",
    "scaled_data = scaler.fit_transform(processed_data)\n",
    "\n",
    "# Step 5: Apply K-Means clustering\n",
    "kmeans = KMeans(n_clusters=4, random_state=42)\n",
    "processed_data['Cluster'] = kmeans.fit_predict(scaled_data)\n",
    "\n",
    "# Add clusters to the original dataset\n",
    "data['Cluster'] = None\n",
    "data.loc[demographic_data.index, 'Cluster'] = processed_data['Cluster']\n",
    "\n",
    "# Step 6: Visualize the clusters\n",
    "plt.figure(figsize=(10, 6))\n",
    "plt.bar(processed_data['Cluster'].value_counts().index,\n",
    "        processed_data['Cluster'].value_counts().values)\n",
    "plt.title('Demographic Segmentation Clusters')\n",
    "plt.xlabel('Cluster')\n",
    "plt.ylabel('Number of Customers')\n",
    "plt.show()\n",
    "\n",
    "# Step 7: Save results and analyze clusters\n",
    "data.to_csv(\"demographic_segmentation_results.csv\", index=False)\n",
    "print(processed_data.groupby('Cluster').mean())\n"
   ]
  }
 ],
 "metadata": {
  "kernelspec": {
   "display_name": "Python 3 (ipykernel)",
   "language": "python",
   "name": "python3"
  },
  "language_info": {
   "codemirror_mode": {
    "name": "ipython",
    "version": 3
   },
   "file_extension": ".py",
   "mimetype": "text/x-python",
   "name": "python",
   "nbconvert_exporter": "python",
   "pygments_lexer": "ipython3",
   "version": "3.9.19"
  }
 },
 "nbformat": 4,
 "nbformat_minor": 5
}
